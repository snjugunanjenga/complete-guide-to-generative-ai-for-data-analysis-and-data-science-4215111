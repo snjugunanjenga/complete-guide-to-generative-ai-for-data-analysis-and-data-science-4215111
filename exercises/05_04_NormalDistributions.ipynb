{
 "cells": [
  {
   "cell_type": "code",
   "execution_count": 1,
   "metadata": {
    "colab": {
     "base_uri": "https://localhost:8080/"
    },
    "executionInfo": {
     "elapsed": 5,
     "status": "ok",
     "timestamp": 1716683611045,
     "user": {
      "displayName": "Dan Sullivan",
      "userId": "04950569771201204395"
     },
     "user_tz": 420
    },
    "id": "nGEr6Is_UKP8",
    "outputId": "f2d778ca-79fe-4f0f-ae93-c56f52efbe50"
   },
   "outputs": [
    {
     "name": "stdout",
     "output_type": "stream",
     "text": [
      "[ 81.57786461  69.36657063  81.8660886   87.23982393  89.62644051\n",
      "  65.4368195   79.49700884  77.82356363  44.67311575  80.86196169\n",
      "  77.45994548  78.26554842  63.58030142  60.88518914  80.97653032\n",
      " 100.          58.93093856  69.12602437  60.89024576  89.305369\n",
      "  70.08496204  73.19281605  32.09933725  71.81195576  70.3595474\n",
      "  56.5787726   84.40898026  66.25716083  79.895954    72.60146183\n",
      "  50.02930031  98.30789395  81.64418132  70.55215413  62.68972596\n",
      "  77.48971293  55.19949585  86.30066569  82.98499566  67.9722437\n",
      " 100.          40.69629428  46.48927381  55.00049723  64.0185791\n",
      "  90.6398828   94.76756427  77.35574987  52.76667932  70.17016122\n",
      "  61.69682529  46.86730158  82.02183228  91.79849612  88.21197437\n",
      "  71.64096916  68.68899716  52.94676099  71.58109674  39.76828175\n",
      "  83.86289355  72.37519678  62.24452686  87.85108658  73.23293553\n",
      "  65.03333414  43.25831906  50.3062954   68.8308511   79.8692676\n",
      "  70.53485896  75.47604358  71.97309625  66.66040928  53.32457583\n",
      "  85.63886254  61.52183006  79.85114725  62.9419244   54.39796492\n",
      "  52.63326409  53.29380449  87.02426686  65.02985984  96.05607235\n",
      "  62.30986484  52.57966844  91.19777704  62.10293706  40.04777251\n",
      "  99.79988892  95.12788918  84.25525398  98.32924021  56.11614173\n",
      "  55.51690108  65.15998042  76.76457278  72.3808943   76.79048026]\n"
     ]
    }
   ],
   "source": [
    "import numpy as np\n",
    "\n",
    "def generate_test_scores(mean, std_dev, num_scores):\n",
    "    # Generate normally distributed scores\n",
    "    scores = np.random.normal(loc=mean, scale=std_dev, size=num_scores)\n",
    "\n",
    "    # Clip the scores to be within the range [0, 100]\n",
    "    scores = np.clip(scores, 0, 100)\n",
    "\n",
    "    return scores\n",
    "\n",
    "# Parameters\n",
    "mean = 70  # Mean of the distribution\n",
    "std_dev = 15  # Standard deviation of the distribution\n",
    "num_scores = 100  # Number of test scores to generate\n",
    "\n",
    "# Generate the test scores\n",
    "test_scores = generate_test_scores(mean, std_dev, num_scores)\n",
    "\n",
    "# Print the test scores\n",
    "print(test_scores)\n"
   ]
  },
  {
   "cell_type": "code",
   "execution_count": 2,
   "metadata": {
    "colab": {
     "base_uri": "https://localhost:8080/"
    },
    "executionInfo": {
     "elapsed": 244,
     "status": "ok",
     "timestamp": 1716683719119,
     "user": {
      "displayName": "Dan Sullivan",
      "userId": "04950569771201204395"
     },
     "user_tz": 420
    },
    "id": "CFUYob1tUqsA",
    "outputId": "171acea9-aeb4-4463-d5d3-36ddd01c68e1"
   },
   "outputs": [
    {
     "name": "stdout",
     "output_type": "stream",
     "text": [
      "[ 55  77  84  48 100  79  81  93  52  33  80 100  81  66  66  67  67  83\n",
      "  80  64  83  71  75  62  70  85  59  85  87  60  72  53  68  83  79  79\n",
      "  54  50  67  86  66  81  79  67  53  91  74  69  79  63  43  71  65  61\n",
      "  74  37  81  87  70  64 100 100  70  91  92  71  90  65  84  57  35  60\n",
      "  75  87  51  74  79  56  67  68  57  58  60  73  98  73 100  81  75  51\n",
      "  70  92  74  82  79  77  75  59  79 100]\n"
     ]
    }
   ],
   "source": [
    "import numpy as np\n",
    "\n",
    "def generate_test_scores(mean, std_dev, num_scores):\n",
    "    # Generate normally distributed scores\n",
    "    scores = np.random.normal(loc=mean, scale=std_dev, size=num_scores)\n",
    "\n",
    "    # Clip the scores to be within the range [0, 100]\n",
    "    scores = np.clip(scores, 0, 100)\n",
    "\n",
    "    # Round the scores to the nearest integer\n",
    "    scores = np.round(scores).astype(int)\n",
    "\n",
    "    return scores\n",
    "\n",
    "# Parameters\n",
    "mean = 70  # Mean of the distribution\n",
    "std_dev = 15  # Standard deviation of the distribution\n",
    "num_scores = 100  # Number of test scores to generate\n",
    "\n",
    "# Generate the test scores\n",
    "test_scores = generate_test_scores(mean, std_dev, num_scores)\n",
    "\n",
    "# Print the test scores\n",
    "print(test_scores)\n"
   ]
  },
  {
   "cell_type": "code",
   "execution_count": 4,
   "metadata": {},
   "outputs": [
    {
     "name": "stdout",
     "output_type": "stream",
     "text": [
      "Collecting matplotlib\n",
      "  Downloading matplotlib-3.10.3-cp310-cp310-manylinux_2_17_x86_64.manylinux2014_x86_64.whl.metadata (11 kB)\n",
      "Collecting contourpy>=1.0.1 (from matplotlib)\n",
      "  Downloading contourpy-1.3.2-cp310-cp310-manylinux_2_17_x86_64.manylinux2014_x86_64.whl.metadata (5.5 kB)\n",
      "Collecting cycler>=0.10 (from matplotlib)\n",
      "  Downloading cycler-0.12.1-py3-none-any.whl.metadata (3.8 kB)\n",
      "Collecting fonttools>=4.22.0 (from matplotlib)\n",
      "  Downloading fonttools-4.58.0-cp310-cp310-manylinux_2_17_x86_64.manylinux2014_x86_64.whl.metadata (104 kB)\n",
      "Collecting kiwisolver>=1.3.1 (from matplotlib)\n",
      "  Downloading kiwisolver-1.4.8-cp310-cp310-manylinux_2_12_x86_64.manylinux2010_x86_64.whl.metadata (6.2 kB)\n",
      "Requirement already satisfied: numpy>=1.23 in /workspaces/complete-guide-to-generative-ai-for-data-analysis-and-data-science-4215111/.venv/lib/python3.10/site-packages (from matplotlib) (2.2.6)\n",
      "Requirement already satisfied: packaging>=20.0 in /workspaces/complete-guide-to-generative-ai-for-data-analysis-and-data-science-4215111/.venv/lib/python3.10/site-packages (from matplotlib) (25.0)\n",
      "Collecting pillow>=8 (from matplotlib)\n",
      "  Downloading pillow-11.2.1-cp310-cp310-manylinux_2_28_x86_64.whl.metadata (8.9 kB)\n",
      "Collecting pyparsing>=2.3.1 (from matplotlib)\n",
      "  Downloading pyparsing-3.2.3-py3-none-any.whl.metadata (5.0 kB)\n",
      "Requirement already satisfied: python-dateutil>=2.7 in /workspaces/complete-guide-to-generative-ai-for-data-analysis-and-data-science-4215111/.venv/lib/python3.10/site-packages (from matplotlib) (2.9.0.post0)\n",
      "Requirement already satisfied: six>=1.5 in /workspaces/complete-guide-to-generative-ai-for-data-analysis-and-data-science-4215111/.venv/lib/python3.10/site-packages (from python-dateutil>=2.7->matplotlib) (1.17.0)\n",
      "Downloading matplotlib-3.10.3-cp310-cp310-manylinux_2_17_x86_64.manylinux2014_x86_64.whl (8.6 MB)\n",
      "\u001b[2K   \u001b[90m━━━━━━━━━━━━━━━━━━━━━━━━━━━━━━━━━━━━━━━━\u001b[0m \u001b[32m8.6/8.6 MB\u001b[0m \u001b[31m23.5 MB/s\u001b[0m eta \u001b[36m0:00:00\u001b[0m00:01\u001b[0m00:01\u001b[0m\n",
      "\u001b[?25hDownloading contourpy-1.3.2-cp310-cp310-manylinux_2_17_x86_64.manylinux2014_x86_64.whl (325 kB)\n",
      "Downloading cycler-0.12.1-py3-none-any.whl (8.3 kB)\n",
      "Downloading fonttools-4.58.0-cp310-cp310-manylinux_2_17_x86_64.manylinux2014_x86_64.whl (4.7 MB)\n",
      "\u001b[2K   \u001b[90m━━━━━━━━━━━━━━━━━━━━━━━━━━━━━━━━━━━━━━━━\u001b[0m \u001b[32m4.7/4.7 MB\u001b[0m \u001b[31m35.2 MB/s\u001b[0m eta \u001b[36m0:00:00\u001b[0m\n",
      "\u001b[?25hDownloading kiwisolver-1.4.8-cp310-cp310-manylinux_2_12_x86_64.manylinux2010_x86_64.whl (1.6 MB)\n",
      "\u001b[2K   \u001b[90m━━━━━━━━━━━━━━━━━━━━━━━━━━━━━━━━━━━━━━━━\u001b[0m \u001b[32m1.6/1.6 MB\u001b[0m \u001b[31m46.2 MB/s\u001b[0m eta \u001b[36m0:00:00\u001b[0m\n",
      "\u001b[?25hDownloading pillow-11.2.1-cp310-cp310-manylinux_2_28_x86_64.whl (4.6 MB)\n",
      "\u001b[2K   \u001b[90m━━━━━━━━━━━━━━━━━━━━━━━━━━━━━━━━━━━━━━━━\u001b[0m \u001b[32m4.6/4.6 MB\u001b[0m \u001b[31m35.3 MB/s\u001b[0m eta \u001b[36m0:00:00\u001b[0m\n",
      "\u001b[?25hDownloading pyparsing-3.2.3-py3-none-any.whl (111 kB)\n",
      "Installing collected packages: pyparsing, pillow, kiwisolver, fonttools, cycler, contourpy, matplotlib\n",
      "\u001b[2K   \u001b[90m━━━━━━━━━━━━━━━━━━━━━━━━━━━━━━━━━━━━━━━━\u001b[0m \u001b[32m7/7\u001b[0m [matplotlib]7\u001b[0m [matplotlib]\n",
      "\u001b[1A\u001b[2KSuccessfully installed contourpy-1.3.2 cycler-0.12.1 fonttools-4.58.0 kiwisolver-1.4.8 matplotlib-3.10.3 pillow-11.2.1 pyparsing-3.2.3\n"
     ]
    }
   ],
   "source": [
    "!pip install matplotlib"
   ]
  },
  {
   "cell_type": "code",
   "execution_count": 5,
   "metadata": {
    "colab": {
     "base_uri": "https://localhost:8080/",
     "height": 472
    },
    "executionInfo": {
     "elapsed": 642,
     "status": "ok",
     "timestamp": 1716684938342,
     "user": {
      "displayName": "Dan Sullivan",
      "userId": "04950569771201204395"
     },
     "user_tz": 420
    },
    "id": "RT6wECl2ZHGu",
    "outputId": "356089e1-848c-4899-fcae-5f466d06512a"
   },
   "outputs": [
    {
     "data": {
      "image/png": "[encoded data removed]",
      "text/plain": [
       "<Figure size 640x480 with 1 Axes>"
      ]
     },
     "metadata": {},
     "output_type": "display_data"
    }
   ],
   "source": [
    "import numpy as np\n",
    "import matplotlib.pyplot as plt\n",
    "\n",
    "def generate_test_scores(mean, std_dev, num_scores):\n",
    "    # Generate normally distributed scores\n",
    "    scores = np.random.normal(loc=mean, scale=std_dev, size=num_scores)\n",
    "\n",
    "    # Clip the scores to be within the range [0, 100]\n",
    "    scores = np.clip(scores, 0, 100)\n",
    "\n",
    "    # Round the scores to the nearest integer\n",
    "    scores = np.round(scores).astype(int)\n",
    "\n",
    "    return scores\n",
    "\n",
    "def plot_scores_distribution(scores):\n",
    "    # Plot a histogram of the scores\n",
    "    plt.hist(scores, bins=20, edgecolor='black')\n",
    "    plt.title('Distribution of Test Scores')\n",
    "    plt.xlabel('Score')\n",
    "    plt.ylabel('Frequency')\n",
    "    plt.grid(True)\n",
    "    plt.show()\n",
    "\n",
    "# Parameters\n",
    "mean = 70  # Mean of the distribution\n",
    "std_dev = 15  # Standard deviation of the distribution\n",
    "num_scores = 100  # Number of test scores to generate\n",
    "\n",
    "# Generate the test scores\n",
    "test_scores = generate_test_scores(mean, std_dev, num_scores)\n",
    "\n",
    "# Plot the distribution of the test scores\n",
    "plot_scores_distribution(test_scores)\n"
   ]
  }
 ],
 "metadata": {
  "colab": {
   "authorship_tag": "ABX9TyOzOv0cFORYR42Tg6fEOL5A",
   "provenance": []
  },
  "kernelspec": {
   "display_name": ".venv",
   "language": "python",
   "name": "python3"
  },
  "language_info": {
   "codemirror_mode": {
    "name": "ipython",
    "version": 3
   },
   "file_extension": ".py",
   "mimetype": "text/x-python",
   "name": "python",
   "nbconvert_exporter": "python",
   "pygments_lexer": "ipython3",
   "version": "3.10.12"
  }
 },
 "nbformat": 4,
 "nbformat_minor": 0
}
