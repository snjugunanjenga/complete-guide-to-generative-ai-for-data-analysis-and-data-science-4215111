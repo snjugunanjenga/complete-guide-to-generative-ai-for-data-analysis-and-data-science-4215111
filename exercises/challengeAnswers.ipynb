{
 "cells": [
  {
   "cell_type": "code",
   "execution_count": 4,
   "id": "b4944532",
   "metadata": {},
   "outputs": [
    {
     "name": "stdout",
     "output_type": "stream",
     "text": [
      "Requirement already satisfied: pandas in /workspaces/complete-guide-to-generative-ai-for-data-analysis-and-data-science-4215111/.venv/lib/python3.10/site-packages (2.2.3)\n",
      "Requirement already satisfied: numpy>=1.22.4 in /workspaces/complete-guide-to-generative-ai-for-data-analysis-and-data-science-4215111/.venv/lib/python3.10/site-packages (from pandas) (2.2.6)\n",
      "Requirement already satisfied: python-dateutil>=2.8.2 in /workspaces/complete-guide-to-generative-ai-for-data-analysis-and-data-science-4215111/.venv/lib/python3.10/site-packages (from pandas) (2.9.0.post0)\n",
      "Requirement already satisfied: pytz>=2020.1 in /workspaces/complete-guide-to-generative-ai-for-data-analysis-and-data-science-4215111/.venv/lib/python3.10/site-packages (from pandas) (2025.2)\n",
      "Requirement already satisfied: tzdata>=2022.7 in /workspaces/complete-guide-to-generative-ai-for-data-analysis-and-data-science-4215111/.venv/lib/python3.10/site-packages (from pandas) (2025.2)\n",
      "Requirement already satisfied: six>=1.5 in /workspaces/complete-guide-to-generative-ai-for-data-analysis-and-data-science-4215111/.venv/lib/python3.10/site-packages (from python-dateutil>=2.8.2->pandas) (1.17.0)\n",
      "Collecting scipy\n",
      "  Downloading scipy-1.15.3-cp310-cp310-manylinux_2_17_x86_64.manylinux2014_x86_64.whl.metadata (61 kB)\n",
      "Requirement already satisfied: numpy<2.5,>=1.23.5 in /workspaces/complete-guide-to-generative-ai-for-data-analysis-and-data-science-4215111/.venv/lib/python3.10/site-packages (from scipy) (2.2.6)\n",
      "Downloading scipy-1.15.3-cp310-cp310-manylinux_2_17_x86_64.manylinux2014_x86_64.whl (37.7 MB)\n",
      "\u001b[2K   \u001b[90m━━━━━━━━━━━━━━━━━━━━━━━━━━━━━━━━━━━━━━━━\u001b[0m \u001b[32m37.7/37.7 MB\u001b[0m \u001b[31m32.9 MB/s\u001b[0m eta \u001b[36m0:00:00\u001b[0m00:01\u001b[0m00:01\u001b[0m\n",
      "\u001b[?25hInstalling collected packages: scipy\n",
      "Successfully installed scipy-1.15.3\n"
     ]
    }
   ],
   "source": [
    "!pip install pandas\n",
    "!pip install scipy"
   ]
  },
  {
   "cell_type": "code",
   "execution_count": 7,
   "id": "7a7e577b",
   "metadata": {},
   "outputs": [
    {
     "name": "stdout",
     "output_type": "stream",
     "text": [
      "Columns in DataFrame: ['Date Sold', 'Product Name', 'Product Category', 'Cost per Unit', 'Sale Price per Unit', 'Units Sold', 'Total Cost of Units Sold', 'Total Revenue of Units Sold']\n"
     ]
    }
   ],
   "source": [
    "# Load the dataset\n",
    "df = pd.read_csv('07_challenge_grocery_sales_data_set.csv')\n",
    "\n",
    "# Check columns before calculations\n",
    "print(\"Columns in DataFrame:\", df.columns.tolist())\n",
    "\n",
    "# Calculate mean and standard deviation for cost per unit and sales price per unit\n",
    "cost_mean = df['Cost per Unit'].mean()\n",
    "# ...existing code..."
   ]
  },
  {
   "cell_type": "code",
   "execution_count": 10,
   "id": "a8b1f947",
   "metadata": {},
   "outputs": [
    {
     "name": "stdout",
     "output_type": "stream",
     "text": [
      "Columns in DataFrame: ['Date Sold', 'Product Name', 'Product Category', 'Cost per Unit', 'Sale Price per Unit', 'Units Sold', 'Total Cost of Units Sold', 'Total Revenue of Units Sold']\n",
      "Mean of cost per unit: 4.977991803278688\n",
      "Standard deviation of cost per unit: 2.030886602865394\n",
      "Mean of sale price per unit: 7.04233606557377\n",
      "Standard deviation of sale price per unit: 2.051225177058846\n",
      "Mode of product category: Other\n"
     ]
    }
   ],
   "source": [
    "import pandas as pd\n",
    "from scipy import stats\n",
    "\n",
    "# Load the dataset\n",
    "df = pd.read_csv('07_challenge_grocery_sales_data_set.csv')\n",
    "\n",
    "# Check columns before calculations\n",
    "print(\"Columns in DataFrame:\", df.columns.tolist())\n",
    "\n",
    "# Calculate mean and standard deviation for cost per unit and sale price per unit\n",
    "cost_mean = df['Cost per Unit'].mean()\n",
    "cost_std = df['Cost per Unit'].std()\n",
    "sales_mean = df['Sale Price per Unit'].mean()\n",
    "sales_std = df['Sale Price per Unit'].std()\n",
    "\n",
    "# Calculate mode for product category\n",
    "category_mode = df['Product Category'].mode()[0]\n",
    "\n",
    "print(f\"Mean of cost per unit: {cost_mean}\")\n",
    "print(f\"Standard deviation of cost per unit: {cost_std}\")\n",
    "print(f\"Mean of sale price per unit: {sales_mean}\")\n",
    "print(f\"Standard deviation of sale price per unit: {sales_std}\")\n",
    "print(f\"Mode of product category: {category_mode}\")"
   ]
  },
  {
   "cell_type": "code",
   "execution_count": null,
   "id": "cda09d52",
   "metadata": {},
   "outputs": [],
   "source": []
  }
 ],
 "metadata": {
  "kernelspec": {
   "display_name": ".venv",
   "language": "python",
   "name": "python3"
  },
  "language_info": {
   "codemirror_mode": {
    "name": "ipython",
    "version": 3
   },
   "file_extension": ".py",
   "mimetype": "text/x-python",
   "name": "python",
   "nbconvert_exporter": "python",
   "pygments_lexer": "ipython3",
   "version": "3.10.12"
  }
 },
 "nbformat": 4,
 "nbformat_minor": 5
}
